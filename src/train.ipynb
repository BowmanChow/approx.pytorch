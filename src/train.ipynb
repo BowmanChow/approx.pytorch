{
 "cells": [
  {
   "cell_type": "code",
   "execution_count": null,
   "metadata": {},
   "outputs": [],
   "source": [
    "from model_run import train, validate\n",
    "import torch\n",
    "import torch.nn as nn\n",
    "\n",
    "DEVICE = 'cuda' if torch.cuda.is_available() else 'cpu'\n",
    "print(DEVICE)\n",
    "\n",
    "BATCH_SIZE = 256\n",
    "N_CLASSES = 10\n",
    "DATASET_NAME = 'CIFAR10'\n",
    "model_dir = '../model/'\n",
    "IS_LOAD_MODEL = False"
   ]
  },
  {
   "cell_type": "code",
   "execution_count": null,
   "metadata": {},
   "outputs": [],
   "source": [
    "from data_loader import data_loader\n",
    "\n",
    "train_loader, valid_loader = data_loader(\n",
    "    DATASET_NAME, BATCH_SIZE, is_normalize=True, is_augment=True)\n"
   ]
  },
  {
   "cell_type": "code",
   "execution_count": null,
   "metadata": {},
   "outputs": [],
   "source": [
    "from model import *\n",
    "import torchvision\n",
    "from torchvision.models import AlexNet, resnet18\n",
    "\n",
    "model = VGG11_32x32(N_CLASSES).to(DEVICE)\n",
    "MODEL_PATH = f'{model_dir}{type(model).__name__}-{DATASET_NAME}.model'\n",
    "if IS_LOAD_MODEL:\n",
    "    model.load_state_dict(torch.load(MODEL_PATH))"
   ]
  },
  {
   "cell_type": "code",
   "execution_count": null,
   "metadata": {},
   "outputs": [],
   "source": [
    "from datetime import datetime\n",
    "import torch.optim as optim\n",
    "\n",
    "LEARNING_RATE = 1e-4\n",
    "optimizer = optim.Adam(model.parameters(), lr=LEARNING_RATE)\n",
    "criterion = nn.CrossEntropyLoss()\n",
    "\n",
    "epochs = 12\n",
    "is_train = True\n",
    "is_validate = True\n",
    "for epoch in range(0, epochs):\n",
    "    print(\n",
    "        f'{datetime.now().time().replace(microsecond=0)} --- '\n",
    "        f'Epoch: {epoch}\\t')\n",
    "\n",
    "    if is_train:\n",
    "        train(\n",
    "            train_loader, model, criterion, DEVICE, optimizer, print_every=20)\n",
    "\n",
    "    if is_validate:\n",
    "        validate(\n",
    "            valid_loader, model, criterion, DEVICE, print_every=10)\n"
   ]
  },
  {
   "cell_type": "code",
   "execution_count": null,
   "metadata": {},
   "outputs": [],
   "source": [
    "torch.save(model.state_dict(), MODEL_PATH)"
   ]
  },
  {
   "cell_type": "code",
   "execution_count": null,
   "metadata": {},
   "outputs": [],
   "source": [
    "print(model.state_dict().keys())"
   ]
  },
  {
   "cell_type": "code",
   "execution_count": null,
   "metadata": {},
   "outputs": [],
   "source": [
    "print(model)"
   ]
  }
 ],
 "metadata": {
  "interpreter": {
   "hash": "d4d1e4263499bec80672ea0156c357c1ee493ec2b1c70f0acce89fc37c4a6abe"
  },
  "kernelspec": {
   "display_name": "Python 3.7.7 ('base')",
   "language": "python",
   "name": "python3"
  },
  "language_info": {
   "codemirror_mode": {
    "name": "ipython",
    "version": 3
   },
   "file_extension": ".py",
   "mimetype": "text/x-python",
   "name": "python",
   "nbconvert_exporter": "python",
   "pygments_lexer": "ipython3",
   "version": "3.7.7"
  }
 },
 "nbformat": 4,
 "nbformat_minor": 2
}
